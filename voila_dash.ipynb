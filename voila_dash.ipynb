{
 "cells": [
  {
   "cell_type": "code",
   "execution_count": 2,
   "id": "796545af",
   "metadata": {},
   "outputs": [],
   "source": [
    "import pandas as pd\n",
    "import matplotlib.pyplot as plt\n",
    "import pandas as pd\n",
    "from math import pi\n",
    "import voila\n",
    "df_sklearn = pd.read_csv(r'C:\\Users\\jason\\Documents\\Tennis\\radar.csv')"
   ]
  },
  {
   "cell_type": "code",
   "execution_count": 4,
   "id": "6b0c3d8d",
   "metadata": {},
   "outputs": [
    {
     "name": "stderr",
     "output_type": "stream",
     "text": [
      "Enabling notebook extension jupyter-js-widgets/extension...\n",
      "      - Validating: ok\n",
      "Enabling: voila\n",
      "- Writing config: C:\\Users\\jason\\anaconda3\\etc\\jupyter\n",
      "    - Validating...\n",
      "      voila 0.4.0 ok\n"
     ]
    }
   ],
   "source": [
    "!jupyter nbextension enable --py widgetsnbextension --sys-prefix\n",
    "!jupyter serverextension enable voila --sys-prefix"
   ]
  },
  {
   "cell_type": "code",
   "execution_count": 12,
   "id": "7d2b7b64",
   "metadata": {},
   "outputs": [],
   "source": [
    "def radar(player1,player2,df_sklearn=df_sklearn):\n",
    "    # Set data\n",
    "    \n",
    "    index1 = (df_sklearn[df_sklearn.Player == player1]).index[0]\n",
    "    index2 = (df_sklearn[df_sklearn.Player == player2]).index[0]\n",
    "    \n",
    "    df = pd.DataFrame(df_sklearn.iloc[index1][['Player','Matches','Win%','SPW%','RPW%','TPW%','DomRatio']]).transpose().reset_index().drop('index',axis=1)\n",
    "    df_1 = pd.DataFrame(df_sklearn.iloc[index2][['Player','Matches','Win%','SPW%','RPW%','TPW%','DomRatio']]).transpose().reset_index().drop('index',axis=1)\n",
    "    # number of variable\n",
    "    categories=list(df)[1:]\n",
    "    N = len(categories)\n",
    "\n",
    "    # We are going to plot the first line of the data frame.\n",
    "    # But we need to repeat the first value to close the circular graph:\n",
    "    values=df.loc[0].drop('Player').values.flatten().tolist()\n",
    "    values += values[:1]\n",
    "    \n",
    "    values_1=df_1.iloc[0].drop('Player').values.flatten().tolist()\n",
    "    values_1 += values_1[:1]\n",
    "\n",
    "\n",
    "    # What will be the angle of each axis in the plot? (we divide the plot / number of variable)\n",
    "    angles = [n / float(N) * 2 * pi for n in range(N)]\n",
    "    angles += angles[:1]\n",
    "\n",
    "    angles_1 = [n / float(N) * 2 * pi for n in range(N)]\n",
    "    angles_1 += angles_1[:1]\n",
    "\n",
    "    # Initialise the spider plot\n",
    "    ax = plt.subplot(111, polar=True)\n",
    "\n",
    "    # Draw one axe per variable + add labels\n",
    "    plt.xticks(angles[:-1], categories, color='grey', size=8)\n",
    "\n",
    "    # Draw ylabels\n",
    "    ax.set_rlabel_position(0)\n",
    "    plt.yticks([0,0.5,1], [\"0\",\".5\",\"1\"], color=\"white\", size=7)\n",
    "    plt.ylim(0,1)\n",
    "\n",
    "    # Plot data\n",
    "    plt.plot(angles, values, linewidth=1, linestyle='solid',label=player1)\n",
    "    ax.plot(angles_1, values_1, linewidth=1, linestyle='solid',label=player2)\n",
    "\n",
    "\n",
    "    # Fill area\n",
    "    ax.fill(angles, values, 'b', alpha=0.1)\n",
    "    ax.fill(angles_1, values_1, 'r', alpha=0.1)\n",
    "    plt.legend()\n",
    "    plt.title('Data is 2022 Season, Matches are Career total')\n",
    "    # Show the graph\n",
    "    plt.show()\n",
    "    #.legend()\n"
   ]
  },
  {
   "cell_type": "code",
   "execution_count": 13,
   "id": "2464c572",
   "metadata": {},
   "outputs": [
    {
     "data": {
      "application/vnd.jupyter.widget-view+json": {
       "model_id": "2a3f0a0eaf304949963a9f6bd7ce8722",
       "version_major": 2,
       "version_minor": 0
      },
      "text/plain": [
       "interactive(children=(Dropdown(description='Player1', options=('Adrian Mannarino', 'Albert Ramos', 'Alejandro …"
      ]
     },
     "metadata": {},
     "output_type": "display_data"
    }
   ],
   "source": [
    "from ipywidgets import interact \n",
    "def myfunction(Player1,Player2): \n",
    "    return radar(Player1,Player2)\n",
    "t = interact(myfunction, Player1=list(df_sklearn.Player),Player2=list(df_sklearn.Player))"
   ]
  },
  {
   "cell_type": "markdown",
   "id": "914fe72e",
   "metadata": {},
   "source": [
    "from ipywidgets.embed import embed_minimal_html"
   ]
  },
  {
   "cell_type": "code",
   "execution_count": 15,
   "id": "0f2f07a8",
   "metadata": {},
   "outputs": [
    {
     "name": "stdout",
     "output_type": "stream",
     "text": [
      "^C\n"
     ]
    }
   ],
   "source": [
    "!voila voila_dash.ipynb"
   ]
  },
  {
   "cell_type": "code",
   "execution_count": null,
   "id": "f7c8a683",
   "metadata": {},
   "outputs": [],
   "source": []
  }
 ],
 "metadata": {
  "kernelspec": {
   "display_name": "Python 3 (ipykernel)",
   "language": "python",
   "name": "python3"
  },
  "language_info": {
   "codemirror_mode": {
    "name": "ipython",
    "version": 3
   },
   "file_extension": ".py",
   "mimetype": "text/x-python",
   "name": "python",
   "nbconvert_exporter": "python",
   "pygments_lexer": "ipython3",
   "version": "3.9.13"
  }
 },
 "nbformat": 4,
 "nbformat_minor": 5
}
